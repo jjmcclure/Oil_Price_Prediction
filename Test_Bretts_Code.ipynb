{
 "cells": [
  {
   "cell_type": "code",
   "execution_count": 3,
   "metadata": {},
   "outputs": [
    {
     "name": "stdout",
     "output_type": "stream",
     "text": [
      "Collecting yfinance\n",
      "  Downloading yfinance-0.1.54.tar.gz (19 kB)\n",
      "Requirement already satisfied: pandas>=0.24 in c:\\anaconda\\lib\\site-packages (from yfinance) (0.24.2)\n",
      "Requirement already satisfied: numpy>=1.15 in c:\\anaconda\\lib\\site-packages (from yfinance) (1.18.1)\n",
      "Requirement already satisfied: requests>=2.20 in c:\\anaconda\\lib\\site-packages (from yfinance) (2.24.0)\n",
      "Collecting multitasking>=0.0.7\n",
      "  Downloading multitasking-0.0.9.tar.gz (8.1 kB)\n",
      "Requirement already satisfied: python-dateutil>=2.5.0 in c:\\anaconda\\lib\\site-packages (from pandas>=0.24->yfinance) (2.8.1)\n",
      "Requirement already satisfied: pytz>=2011k in c:\\anaconda\\lib\\site-packages (from pandas>=0.24->yfinance) (2020.1)\n",
      "Requirement already satisfied: idna<3,>=2.5 in c:\\anaconda\\lib\\site-packages (from requests>=2.20->yfinance) (2.7)\n",
      "Requirement already satisfied: chardet<4,>=3.0.2 in c:\\anaconda\\lib\\site-packages (from requests>=2.20->yfinance) (3.0.4)\n",
      "Requirement already satisfied: certifi>=2017.4.17 in c:\\anaconda\\lib\\site-packages (from requests>=2.20->yfinance) (2020.6.20)\n",
      "Requirement already satisfied: urllib3!=1.25.0,!=1.25.1,<1.26,>=1.21.1 in c:\\anaconda\\lib\\site-packages (from requests>=2.20->yfinance) (1.24.3)\n",
      "Requirement already satisfied: six>=1.5 in c:\\anaconda\\lib\\site-packages (from python-dateutil>=2.5.0->pandas>=0.24->yfinance) (1.15.0)\n",
      "Building wheels for collected packages: yfinance, multitasking\n",
      "  Building wheel for yfinance (setup.py): started\n",
      "  Building wheel for yfinance (setup.py): finished with status 'done'\n",
      "  Created wheel for yfinance: filename=yfinance-0.1.54-py2.py3-none-any.whl size=22415 sha256=e9be865486d055f795270d75721ade9098ade5f3a3e5a00746900c886d33abde\n",
      "  Stored in directory: c:\\users\\james mcclure\\appdata\\local\\pip\\cache\\wheels\\28\\79\\3c\\08a301b673366fe664fe2853e136eb2acc1bb752045c11c6a1\n",
      "  Building wheel for multitasking (setup.py): started\n",
      "  Building wheel for multitasking (setup.py): finished with status 'done'\n",
      "  Created wheel for multitasking: filename=multitasking-0.0.9-py3-none-any.whl size=8374 sha256=0a406ca3670f11f009968d8899146150d83920d0c3bd904e2a0083770c6091e2\n",
      "  Stored in directory: c:\\users\\james mcclure\\appdata\\local\\pip\\cache\\wheels\\ae\\25\\47\\4d68431a7ec1b6c4b5233365934b74c1d4e665bf5f968d363a\n",
      "Successfully built yfinance multitasking\n",
      "Installing collected packages: multitasking, yfinance\n",
      "Successfully installed multitasking-0.0.9 yfinance-0.1.54\n"
     ]
    }
   ],
   "source": [
    "# Imports needed\n",
    "!pip install yfinance\n",
    "import yfinance as yf\n",
    "import pandas as pd\n",
    "from pathlib import Path\n",
    "import datetime\n",
    "import os"
   ]
  },
  {
   "cell_type": "code",
   "execution_count": 10,
   "metadata": {},
   "outputs": [],
   "source": [
    "def get_historical_data(ticker, period, interval):\n",
    "    '''This function pulls historical data for a specified ticker from Yahoo Finance using yfinance.\n",
    "    If the current trading day has not closed it will be removed from the data.\n",
    "    \n",
    "    Inputs:\n",
    "        ticker = ticker symbol for the trade instrument. (str)\n",
    "        period = data period to download \n",
    "            available options: 1d, 5d, 1mo, 3mo, 6mo, 1y, 2y, 5y, 10y, ytd, max\n",
    "        interval = data interval.\n",
    "            available options 1d, 5d, 1wk, 1mo, 3mo     \n",
    "    '''\n",
    "    # Get data\n",
    "    data = yf.Ticker(ticker)\n",
    "    data_df = data.history(period=period,\n",
    "                                interval=interval,\n",
    "                                actions=False,\n",
    "                                back_adjust=True).reset_index()\n",
    "    # Drop current trading day\n",
    "    data_df = data_df.iloc[:-1]\n",
    "    \n",
    "    # Save to .csv file\n",
    "    \n",
    "    # Check if Data folder exist and if not create it\n",
    "    folder_name = 'Data'\n",
    "    check_folder = os.path.isdir(folder_name)\n",
    "    if not check_folder:\n",
    "        os.makedirs(folder_name)\n",
    "        print(\"A folder named data has been created\")\n",
    "    else:\n",
    "        print('Your file will be stored in the folder named data that already exists.')\n",
    "        pass\n",
    "    p = Path(folder_name)  \n",
    "    strFile = data_df, data_df.to_csv(Path(p, ticker + '.csv'), index=False)\n",
    "    if (strFile==''):\n",
    "        strSuccess = f'Did not write your data to the {p} folder.'\n",
    "    else:\n",
    "        strSuccess = f'Wrote your file to the {p} folder.'\n",
    "    return data_df, strSuccess"
   ]
  },
  {
   "cell_type": "code",
   "execution_count": 11,
   "metadata": {},
   "outputs": [
    {
     "name": "stdout",
     "output_type": "stream",
     "text": [
      "Your file will be stored in the folder named data that already exists.\n",
      "<class 'pandas.core.frame.DataFrame'>\n",
      "RangeIndex: 2517 entries, 0 to 2516\n",
      "Data columns (total 6 columns):\n",
      "Date      2517 non-null datetime64[ns]\n",
      "Open      2517 non-null float64\n",
      "High      2517 non-null float64\n",
      "Low       2517 non-null float64\n",
      "Close     2517 non-null float64\n",
      "Volume    2517 non-null int64\n",
      "dtypes: datetime64[ns](1), float64(4), int64(1)\n",
      "memory usage: 118.1 KB\n",
      "None\n",
      "Wrote your file to Data.\n"
     ]
    }
   ],
   "source": [
    "df, str = get_historical_data('CPE', '10y', '1d')\n",
    "print (df.info())\n",
    "print (str)"
   ]
  },
  {
   "cell_type": "code",
   "execution_count": null,
   "metadata": {},
   "outputs": [],
   "source": []
  }
 ],
 "metadata": {
  "kernelspec": {
   "display_name": "Python 3",
   "language": "python",
   "name": "python3"
  },
  "language_info": {
   "codemirror_mode": {
    "name": "ipython",
    "version": 3
   },
   "file_extension": ".py",
   "mimetype": "text/x-python",
   "name": "python",
   "nbconvert_exporter": "python",
   "pygments_lexer": "ipython3",
   "version": "3.7.6"
  }
 },
 "nbformat": 4,
 "nbformat_minor": 4
}
