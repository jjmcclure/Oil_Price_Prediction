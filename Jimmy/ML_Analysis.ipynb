{
 "cells": [
  {
   "cell_type": "code",
   "execution_count": 7,
   "metadata": {},
   "outputs": [],
   "source": [
    "import os\n",
    "import pandas as pd\n",
    "import numpy as np\n",
    "from pathlib import Path\n",
    "import matplotlib.pyplot as plt\n",
    "from datetime import datetime\n",
    "%matplotlib inline"
   ]
  },
  {
   "cell_type": "code",
   "execution_count": 8,
   "metadata": {},
   "outputs": [],
   "source": [
    "#read in csv\n",
    "def read_csv(path, strDate, strDateFormat):\n",
    "    intSuccess = 0\n",
    "    if strDateFormat != '':\n",
    "        df = pd.read_csv(path, delimiter=',')\n",
    "        df = df.iloc[0:35]\n",
    "        df[strDate] = pd.to_datetime(datetime.strptime(df[strDate]+strDateFormat), '%Y-%m-%d')\n",
    "        df.set_index(strDate, drop=True, inplace=True)\n",
    "\n",
    "    else:\n",
    "        df = pd.read_csv(path,delimiter=',',parse_dates = True,\n",
    "            infer_datetime_format = True,\n",
    "            index_col = strDate\n",
    "            )\n",
    "        df.index = pd.to_datetime(df.index, format='%Y-%m')\n",
    "    if df.count != 0:\n",
    "        intSuccess = 1\n",
    "    return df, intSuccess"
   ]
  },
  {
   "cell_type": "code",
   "execution_count": 9,
   "metadata": {},
   "outputs": [
    {
     "name": "stdout",
     "output_type": "stream",
     "text": [
      "            Price   Open   High    Low     Vol. Change %\n",
      "Date                                                    \n",
      "2020-09-22  39.77  39.92  40.26  39.20        -    1.17%\n",
      "2020-09-21  39.31  40.98  41.27  38.66   33.73K   -4.38%\n",
      "2020-09-18  41.11  40.97  41.49  40.30   73.76K    0.34%\n",
      "2020-09-17  40.97  40.19  41.22  39.42  280.67K    2.02%\n",
      "2020-09-16  40.16  38.35  40.34  38.35  367.61K    4.91%\n"
     ]
    },
    {
     "data": {
      "image/png": "[encoded data removed]",
      "text/plain": [
       "<Figure size 504x360 with 1 Axes>"
      ]
     },
     "metadata": {
      "needs_background": "light"
     },
     "output_type": "display_data"
    }
   ],
   "source": [
    "#read in crude price\n",
    "# # print(os.path.dirname(os.getcwd()))\n",
    "# base_path = os.getcwd()\n",
    "# p = base_path + \"\\\\data\\\\\"\n",
    "# print(p)\n",
    "# os.chdir('')\n",
    "# print(p)\n",
    "strFile = 'crude_wti_futures_history_data.csv'\n",
    "p = 'C:\\\\Users\\\\James McClure\\\\Oil_Price_Prediction\\\\data\\\\'\n",
    "dfCrudePrices, intSuccess = read_csv(Path(p,strFile), 'Date', '')\n",
    "if intSuccess == 1:\n",
    "    print(dfCrudePrices.head())\n",
    "    dfCrudePrices.plot(figsize=(7,5))\n",
    "else:\n",
    "    print('Tough luck sucker')"
   ]
  },
  {
   "cell_type": "code",
   "execution_count": 10,
   "metadata": {},
   "outputs": [
    {
     "data": {
      "text/html": [
       "<div>\n",
       "<style scoped>\n",
       "    .dataframe tbody tr th:only-of-type {\n",
       "        vertical-align: middle;\n",
       "    }\n",
       "\n",
       "    .dataframe tbody tr th {\n",
       "        vertical-align: top;\n",
       "    }\n",
       "\n",
       "    .dataframe thead th {\n",
       "        text-align: right;\n",
       "    }\n",
       "</style>\n",
       "<table border=\"1\" class=\"dataframe\">\n",
       "  <thead>\n",
       "    <tr style=\"text-align: right;\">\n",
       "      <th></th>\n",
       "      <th>Price</th>\n",
       "    </tr>\n",
       "    <tr>\n",
       "      <th>Date</th>\n",
       "      <th></th>\n",
       "    </tr>\n",
       "  </thead>\n",
       "  <tbody>\n",
       "    <tr>\n",
       "      <th>2020-09-21</th>\n",
       "      <td>-1.156651</td>\n",
       "    </tr>\n",
       "    <tr>\n",
       "      <th>2020-09-18</th>\n",
       "      <td>4.578988</td>\n",
       "    </tr>\n",
       "    <tr>\n",
       "      <th>2020-09-17</th>\n",
       "      <td>-0.340550</td>\n",
       "    </tr>\n",
       "    <tr>\n",
       "      <th>2020-09-16</th>\n",
       "      <td>-1.977056</td>\n",
       "    </tr>\n",
       "    <tr>\n",
       "      <th>2020-09-15</th>\n",
       "      <td>-4.681275</td>\n",
       "    </tr>\n",
       "    <tr>\n",
       "      <th>2020-09-14</th>\n",
       "      <td>-2.664577</td>\n",
       "    </tr>\n",
       "    <tr>\n",
       "      <th>2020-09-11</th>\n",
       "      <td>0.187869</td>\n",
       "    </tr>\n",
       "    <tr>\n",
       "      <th>2020-09-10</th>\n",
       "      <td>-0.080364</td>\n",
       "    </tr>\n",
       "    <tr>\n",
       "      <th>2020-09-09</th>\n",
       "      <td>2.010724</td>\n",
       "    </tr>\n",
       "    <tr>\n",
       "      <th>2020-09-08</th>\n",
       "      <td>-3.390276</td>\n",
       "    </tr>\n",
       "  </tbody>\n",
       "</table>\n",
       "</div>"
      ],
      "text/plain": [
       "               Price\n",
       "Date                \n",
       "2020-09-21 -1.156651\n",
       "2020-09-18  4.578988\n",
       "2020-09-17 -0.340550\n",
       "2020-09-16 -1.977056\n",
       "2020-09-15 -4.681275\n",
       "2020-09-14 -2.664577\n",
       "2020-09-11  0.187869\n",
       "2020-09-10 -0.080364\n",
       "2020-09-09  2.010724\n",
       "2020-09-08 -3.390276"
      ]
     },
     "execution_count": 10,
     "metadata": {},
     "output_type": "execute_result"
    }
   ],
   "source": [
    "#get series with just oil prices\n",
    "returns = (dfCrudePrices[[\"Price\"]].pct_change() * 100)\n",
    "returns = returns.replace(-np.inf, np.nan).dropna()\n",
    "returns.head(10)"
   ]
  },
  {
   "cell_type": "code",
   "execution_count": 11,
   "metadata": {},
   "outputs": [
    {
     "data": {
      "text/plain": [
       "<matplotlib.axes._subplots.AxesSubplot at 0x206abd25148>"
      ]
     },
     "execution_count": 11,
     "metadata": {},
     "output_type": "execute_result"
    },
    {
     "data": {
      "image/png": "[encoded data removed]",
      "text/plain": [
       "<Figure size 432x288 with 1 Axes>"
      ]
     },
     "metadata": {
      "needs_background": "light"
     },
     "output_type": "display_data"
    }
   ],
   "source": [
    "#plot percent price change\n",
    "returns.plot()"
   ]
  },
  {
   "cell_type": "code",
   "execution_count": 12,
   "metadata": {},
   "outputs": [
    {
     "name": "stdout",
     "output_type": "stream",
     "text": [
      "Sample size = 4856\n",
      "Augmented Dickey-Fuller\n"
     ]
    },
    {
     "data": {
      "text/plain": [
       "(-12.887779388516556,\n",
       " 4.5155579189350985e-24,\n",
       " 30,\n",
       " 4825,\n",
       " {'1%': -3.4317060170726856,\n",
       "  '5%': -2.8621392081311585,\n",
       "  '10%': -2.567088960036511},\n",
       " 32805.984368319805)"
      ]
     },
     "execution_count": 12,
     "metadata": {},
     "output_type": "execute_result"
    }
   ],
   "source": [
    "from statsmodels.tsa.stattools import adfuller\n",
    "print(f'Sample size = {returns.size}')\n",
    "print(\"Augmented Dickey-Fuller\")\n",
    "adfuller(returns.Price)\n",
    "#adFuller indicates no significant trend detected"
   ]
  },
  {
   "cell_type": "code",
   "execution_count": 13,
   "metadata": {},
   "outputs": [],
   "source": [
    "#remove data past 2020-2 to eliminate outliners\n",
    "remove_outliners = returns.loc['2020-02':'2001-09']"
   ]
  },
  {
   "cell_type": "code",
   "execution_count": 14,
   "metadata": {},
   "outputs": [
    {
     "data": {
      "text/plain": [
       "<matplotlib.axes._subplots.AxesSubplot at 0x206abdd3208>"
      ]
     },
     "execution_count": 14,
     "metadata": {},
     "output_type": "execute_result"
    },
    {
     "data": {
      "image/png": "[encoded data removed]",
      "text/plain": [
       "<Figure size 432x288 with 1 Axes>"
      ]
     },
     "metadata": {
      "needs_background": "light"
     },
     "output_type": "display_data"
    }
   ],
   "source": [
    "remove_outliners.plot()"
   ]
  },
  {
   "cell_type": "code",
   "execution_count": 15,
   "metadata": {},
   "outputs": [
    {
     "name": "stdout",
     "output_type": "stream",
     "text": [
      "Sample size = 4709\n",
      "Augmented Dickey-Fuller\n"
     ]
    },
    {
     "data": {
      "text/plain": [
       "(-14.281518971060898,\n",
       " 1.321496174620928e-26,\n",
       " 20,\n",
       " 4688,\n",
       " {'1%': -3.4317456664346655,\n",
       "  '5%': -2.8621567246115345,\n",
       "  '10%': -2.56709828481003},\n",
       " 21134.803075083073)"
      ]
     },
     "execution_count": 15,
     "metadata": {},
     "output_type": "execute_result"
    }
   ],
   "source": [
    "print(f'Sample size = {remove_outliners.size}')\n",
    "print(\"Augmented Dickey-Fuller\")\n",
    "adfuller(remove_outliners.Price)\n",
    "#removed data with massive drop to determine if the dataset was more useful without it\n",
    "#adFuller still indicates no significant trend detected"
   ]
  },
  {
   "cell_type": "code",
   "execution_count": 16,
   "metadata": {},
   "outputs": [
    {
     "data": {
      "text/html": [
       "<table class=\"simpletable\">\n",
       "<caption>ARMA Model Results</caption>\n",
       "<tr>\n",
       "  <th>Dep. Variable:</th>         <td>y</td>        <th>  No. Observations:  </th>    <td>4856</td>   \n",
       "</tr>\n",
       "<tr>\n",
       "  <th>Model:</th>            <td>ARMA(2, 1)</td>    <th>  Log Likelihood     </th> <td>-16524.742</td>\n",
       "</tr>\n",
       "<tr>\n",
       "  <th>Method:</th>             <td>css-mle</td>     <th>  S.D. of innovations</th>    <td>7.272</td>  \n",
       "</tr>\n",
       "<tr>\n",
       "  <th>Date:</th>          <td>Mon, 28 Sep 2020</td> <th>  AIC                </th>  <td>33059.485</td>\n",
       "</tr>\n",
       "<tr>\n",
       "  <th>Time:</th>              <td>16:29:10</td>     <th>  BIC                </th>  <td>33091.925</td>\n",
       "</tr>\n",
       "<tr>\n",
       "  <th>Sample:</th>                <td>0</td>        <th>  HQIC               </th>  <td>33070.871</td>\n",
       "</tr>\n",
       "<tr>\n",
       "  <th></th>                       <td> </td>        <th>                     </th>      <td> </td>    \n",
       "</tr>\n",
       "</table>\n",
       "<table class=\"simpletable\">\n",
       "<tr>\n",
       "     <td></td>        <th>coef</th>     <th>std err</th>      <th>z</th>      <th>P>|z|</th>  <th>[0.025</th>    <th>0.975]</th>  \n",
       "</tr>\n",
       "<tr>\n",
       "  <th>const</th>   <td>   -0.1188</td> <td>    0.141</td> <td>   -0.841</td> <td> 0.400</td> <td>   -0.395</td> <td>    0.158</td>\n",
       "</tr>\n",
       "<tr>\n",
       "  <th>ar.L1.y</th> <td>   -0.2309</td> <td>    0.095</td> <td>   -2.421</td> <td> 0.015</td> <td>   -0.418</td> <td>   -0.044</td>\n",
       "</tr>\n",
       "<tr>\n",
       "  <th>ar.L2.y</th> <td>    0.0902</td> <td>    0.035</td> <td>    2.596</td> <td> 0.009</td> <td>    0.022</td> <td>    0.158</td>\n",
       "</tr>\n",
       "<tr>\n",
       "  <th>ma.L1.y</th> <td>    0.5433</td> <td>    0.094</td> <td>    5.808</td> <td> 0.000</td> <td>    0.360</td> <td>    0.727</td>\n",
       "</tr>\n",
       "</table>\n",
       "<table class=\"simpletable\">\n",
       "<caption>Roots</caption>\n",
       "<tr>\n",
       "    <td></td>   <th>            Real</th>  <th>         Imaginary</th> <th>         Modulus</th>  <th>        Frequency</th>\n",
       "</tr>\n",
       "<tr>\n",
       "  <th>AR.1</th> <td>          -2.2873</td> <td>          +0.0000j</td> <td>           2.2873</td> <td>           0.5000</td>\n",
       "</tr>\n",
       "<tr>\n",
       "  <th>AR.2</th> <td>           4.8483</td> <td>          +0.0000j</td> <td>           4.8483</td> <td>           0.0000</td>\n",
       "</tr>\n",
       "<tr>\n",
       "  <th>MA.1</th> <td>          -1.8407</td> <td>          +0.0000j</td> <td>           1.8407</td> <td>           0.5000</td>\n",
       "</tr>\n",
       "</table>"
      ],
      "text/plain": [
       "<class 'statsmodels.iolib.summary.Summary'>\n",
       "\"\"\"\n",
       "                              ARMA Model Results                              \n",
       "==============================================================================\n",
       "Dep. Variable:                      y   No. Observations:                 4856\n",
       "Model:                     ARMA(2, 1)   Log Likelihood              -16524.742\n",
       "Method:                       css-mle   S.D. of innovations              7.272\n",
       "Date:                Mon, 28 Sep 2020   AIC                          33059.485\n",
       "Time:                        16:29:10   BIC                          33091.925\n",
       "Sample:                             0   HQIC                         33070.871\n",
       "                                                                              \n",
       "==============================================================================\n",
       "                 coef    std err          z      P>|z|      [0.025      0.975]\n",
       "------------------------------------------------------------------------------\n",
       "const         -0.1188      0.141     -0.841      0.400      -0.395       0.158\n",
       "ar.L1.y       -0.2309      0.095     -2.421      0.015      -0.418      -0.044\n",
       "ar.L2.y        0.0902      0.035      2.596      0.009       0.022       0.158\n",
       "ma.L1.y        0.5433      0.094      5.808      0.000       0.360       0.727\n",
       "                                    Roots                                    \n",
       "=============================================================================\n",
       "                  Real          Imaginary           Modulus         Frequency\n",
       "-----------------------------------------------------------------------------\n",
       "AR.1           -2.2873           +0.0000j            2.2873            0.5000\n",
       "AR.2            4.8483           +0.0000j            4.8483            0.0000\n",
       "MA.1           -1.8407           +0.0000j            1.8407            0.5000\n",
       "-----------------------------------------------------------------------------\n",
       "\"\"\""
      ]
     },
     "execution_count": 16,
     "metadata": {},
     "output_type": "execute_result"
    }
   ],
   "source": [
    "from statsmodels.tsa.arima_model import ARMA\n",
    "# Estimate and ARMA model using statsmodels (use order=(2, 1))\n",
    "model = ARMA(returns.values, order=(2,1))\n",
    "result1 = model.fit()\n",
    "result1.summary()"
   ]
  },
  {
   "cell_type": "code",
   "execution_count": 17,
   "metadata": {},
   "outputs": [
    {
     "data": {
      "text/html": [
       "<table class=\"simpletable\">\n",
       "<caption>ARMA Model Results</caption>\n",
       "<tr>\n",
       "  <th>Dep. Variable:</th>         <td>y</td>        <th>  No. Observations:  </th>    <td>4709</td>   \n",
       "</tr>\n",
       "<tr>\n",
       "  <th>Model:</th>            <td>ARMA(2, 1)</td>    <th>  Log Likelihood     </th> <td>-10641.777</td>\n",
       "</tr>\n",
       "<tr>\n",
       "  <th>Method:</th>             <td>css-mle</td>     <th>  S.D. of innovations</th>    <td>2.319</td>  \n",
       "</tr>\n",
       "<tr>\n",
       "  <th>Date:</th>          <td>Mon, 28 Sep 2020</td> <th>  AIC                </th>  <td>21293.555</td>\n",
       "</tr>\n",
       "<tr>\n",
       "  <th>Time:</th>              <td>16:29:11</td>     <th>  BIC                </th>  <td>21325.841</td>\n",
       "</tr>\n",
       "<tr>\n",
       "  <th>Sample:</th>                <td>0</td>        <th>  HQIC               </th>  <td>21304.905</td>\n",
       "</tr>\n",
       "<tr>\n",
       "  <th></th>                       <td> </td>        <th>                     </th>      <td> </td>    \n",
       "</tr>\n",
       "</table>\n",
       "<table class=\"simpletable\">\n",
       "<tr>\n",
       "     <td></td>        <th>coef</th>     <th>std err</th>      <th>z</th>      <th>P>|z|</th>  <th>[0.025</th>    <th>0.975]</th>  \n",
       "</tr>\n",
       "<tr>\n",
       "  <th>const</th>   <td>    0.0109</td> <td>    0.032</td> <td>    0.344</td> <td> 0.731</td> <td>   -0.051</td> <td>    0.073</td>\n",
       "</tr>\n",
       "<tr>\n",
       "  <th>ar.L1.y</th> <td>    0.6607</td> <td>    0.400</td> <td>    1.653</td> <td> 0.098</td> <td>   -0.123</td> <td>    1.444</td>\n",
       "</tr>\n",
       "<tr>\n",
       "  <th>ar.L2.y</th> <td>    0.0263</td> <td>    0.026</td> <td>    1.027</td> <td> 0.305</td> <td>   -0.024</td> <td>    0.077</td>\n",
       "</tr>\n",
       "<tr>\n",
       "  <th>ma.L1.y</th> <td>   -0.7061</td> <td>    0.399</td> <td>   -1.768</td> <td> 0.077</td> <td>   -1.489</td> <td>    0.077</td>\n",
       "</tr>\n",
       "</table>\n",
       "<table class=\"simpletable\">\n",
       "<caption>Roots</caption>\n",
       "<tr>\n",
       "    <td></td>   <th>            Real</th>  <th>         Imaginary</th> <th>         Modulus</th>  <th>        Frequency</th>\n",
       "</tr>\n",
       "<tr>\n",
       "  <th>AR.1</th> <td>           1.4318</td> <td>          +0.0000j</td> <td>           1.4318</td> <td>           0.0000</td>\n",
       "</tr>\n",
       "<tr>\n",
       "  <th>AR.2</th> <td>         -26.5321</td> <td>          +0.0000j</td> <td>          26.5321</td> <td>           0.5000</td>\n",
       "</tr>\n",
       "<tr>\n",
       "  <th>MA.1</th> <td>           1.4163</td> <td>          +0.0000j</td> <td>           1.4163</td> <td>           0.0000</td>\n",
       "</tr>\n",
       "</table>"
      ],
      "text/plain": [
       "<class 'statsmodels.iolib.summary.Summary'>\n",
       "\"\"\"\n",
       "                              ARMA Model Results                              \n",
       "==============================================================================\n",
       "Dep. Variable:                      y   No. Observations:                 4709\n",
       "Model:                     ARMA(2, 1)   Log Likelihood              -10641.777\n",
       "Method:                       css-mle   S.D. of innovations              2.319\n",
       "Date:                Mon, 28 Sep 2020   AIC                          21293.555\n",
       "Time:                        16:29:11   BIC                          21325.841\n",
       "Sample:                             0   HQIC                         21304.905\n",
       "                                                                              \n",
       "==============================================================================\n",
       "                 coef    std err          z      P>|z|      [0.025      0.975]\n",
       "------------------------------------------------------------------------------\n",
       "const          0.0109      0.032      0.344      0.731      -0.051       0.073\n",
       "ar.L1.y        0.6607      0.400      1.653      0.098      -0.123       1.444\n",
       "ar.L2.y        0.0263      0.026      1.027      0.305      -0.024       0.077\n",
       "ma.L1.y       -0.7061      0.399     -1.768      0.077      -1.489       0.077\n",
       "                                    Roots                                    \n",
       "=============================================================================\n",
       "                  Real          Imaginary           Modulus         Frequency\n",
       "-----------------------------------------------------------------------------\n",
       "AR.1            1.4318           +0.0000j            1.4318            0.0000\n",
       "AR.2          -26.5321           +0.0000j           26.5321            0.5000\n",
       "MA.1            1.4163           +0.0000j            1.4163            0.0000\n",
       "-----------------------------------------------------------------------------\n",
       "\"\"\""
      ]
     },
     "execution_count": 17,
     "metadata": {},
     "output_type": "execute_result"
    }
   ],
   "source": [
    "model = ARMA(remove_outliners.values, order=(2,1))\n",
    "result2 = model.fit()\n",
    "result2.summary()\n",
    "#removed data with massive drop to determine if the dataset was more useful without it"
   ]
  },
  {
   "cell_type": "code",
   "execution_count": 18,
   "metadata": {},
   "outputs": [
    {
     "data": {
      "text/plain": [
       "<matplotlib.axes._subplots.AxesSubplot at 0x206adf009c8>"
      ]
     },
     "execution_count": 18,
     "metadata": {},
     "output_type": "execute_result"
    },
    {
     "data": {
      "image/png": "[encoded data removed]",
      "text/plain": [
       "<Figure size 432x288 with 1 Axes>"
      ]
     },
     "metadata": {
      "needs_background": "light"
     },
     "output_type": "display_data"
    },
    {
     "data": {
      "image/png": "[encoded data removed]",
      "text/plain": [
       "<Figure size 432x288 with 1 Axes>"
      ]
     },
     "metadata": {
      "needs_background": "light"
     },
     "output_type": "display_data"
    }
   ],
   "source": [
    "pd.DataFrame(result1.forecast(steps=5)[0]).plot(title=\"5 Day Returns Forecast\")\n",
    "pd.DataFrame(result2.forecast(steps=5)[0]).plot(title=\"5 Day Returns Forecast\")"
   ]
  },
  {
   "cell_type": "code",
   "execution_count": null,
   "metadata": {},
   "outputs": [],
   "source": []
  },
  {
   "cell_type": "code",
   "execution_count": 19,
   "metadata": {},
   "outputs": [],
   "source": [
    "from statsmodels.tsa.arima_model import ARIMA"
   ]
  }
 ],
 "metadata": {
  "kernelspec": {
   "display_name": "Python 3",
   "language": "python",
   "name": "python3"
  },
  "language_info": {
   "codemirror_mode": {
    "name": "ipython",
    "version": 3
   },
   "file_extension": ".py",
   "mimetype": "text/x-python",
   "name": "python",
   "nbconvert_exporter": "python",
   "pygments_lexer": "ipython3",
   "version": "3.7.6"
  }
 },
 "nbformat": 4,
 "nbformat_minor": 4
}
