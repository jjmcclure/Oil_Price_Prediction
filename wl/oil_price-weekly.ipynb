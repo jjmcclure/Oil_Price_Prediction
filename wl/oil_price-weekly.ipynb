{
 "cells": [
  {
   "cell_type": "code",
   "execution_count": 1,
   "metadata": {},
   "outputs": [],
   "source": [
    "import pandas as pd\n",
    "import numpy as np\n",
    "%matplotlib inline"
   ]
  },
  {
   "cell_type": "code",
   "execution_count": 2,
   "metadata": {},
   "outputs": [],
   "source": [
    "def fip_score(data):\n",
    "    # Calculating the pct_change for the fip calculation\n",
    "    \n",
    "    data = data.pct_change().dropna()\n",
    "\n",
    "    # set variables for the number of \n",
    "    # positive / negative / zero and number of data. \n",
    "    # Determine the cumulativ returns and set to a variable. \n",
    "\n",
    "    num_positive = len(data[data > 0])\n",
    "    num_negative = len(data[data < 0])\n",
    "    num_zero = len(data[data == 0])\n",
    "    num_days = len(data)\n",
    "    cum_returns = data.sum() \n",
    "        \n",
    "    # Perform the Fip Score calculation\n",
    "\n",
    "    score = (np.sign(cum_returns) * \n",
    "                 (num_negative / num_days - \n",
    "                  num_positive / num_days))\n",
    "    return score"
   ]
  },
  {
   "cell_type": "code",
   "execution_count": 3,
   "metadata": {},
   "outputs": [],
   "source": [
    "df = pd.read_csv('crude_wti_futures_history_data.csv',\n",
    "                parse_dates = True,\n",
    "                infer_datetime_format = True,\n",
    "                index_col = 'Date')"
   ]
  },
  {
   "cell_type": "code",
   "execution_count": 4,
   "metadata": {},
   "outputs": [
    {
     "data": {
      "text/html": [
       "<div>\n",
       "<style scoped>\n",
       "    .dataframe tbody tr th:only-of-type {\n",
       "        vertical-align: middle;\n",
       "    }\n",
       "\n",
       "    .dataframe tbody tr th {\n",
       "        vertical-align: top;\n",
       "    }\n",
       "\n",
       "    .dataframe thead th {\n",
       "        text-align: right;\n",
       "    }\n",
       "</style>\n",
       "<table border=\"1\" class=\"dataframe\">\n",
       "  <thead>\n",
       "    <tr style=\"text-align: right;\">\n",
       "      <th></th>\n",
       "      <th>Price</th>\n",
       "      <th>Open</th>\n",
       "      <th>High</th>\n",
       "      <th>Low</th>\n",
       "      <th>Vol.</th>\n",
       "      <th>Change %</th>\n",
       "    </tr>\n",
       "    <tr>\n",
       "      <th>Date</th>\n",
       "      <th></th>\n",
       "      <th></th>\n",
       "      <th></th>\n",
       "      <th></th>\n",
       "      <th></th>\n",
       "      <th></th>\n",
       "    </tr>\n",
       "  </thead>\n",
       "  <tbody>\n",
       "    <tr>\n",
       "      <th>2001-09-24</th>\n",
       "      <td>22.01</td>\n",
       "      <td>25.90</td>\n",
       "      <td>25.90</td>\n",
       "      <td>21.80</td>\n",
       "      <td>108.96K</td>\n",
       "      <td>-15.25%</td>\n",
       "    </tr>\n",
       "    <tr>\n",
       "      <th>2001-09-25</th>\n",
       "      <td>21.81</td>\n",
       "      <td>22.15</td>\n",
       "      <td>23.15</td>\n",
       "      <td>21.25</td>\n",
       "      <td>90.61K</td>\n",
       "      <td>-0.91%</td>\n",
       "    </tr>\n",
       "    <tr>\n",
       "      <th>2001-09-26</th>\n",
       "      <td>22.38</td>\n",
       "      <td>22.17</td>\n",
       "      <td>22.50</td>\n",
       "      <td>20.30</td>\n",
       "      <td>82.37K</td>\n",
       "      <td>2.61%</td>\n",
       "    </tr>\n",
       "    <tr>\n",
       "      <th>2001-09-27</th>\n",
       "      <td>22.74</td>\n",
       "      <td>22.71</td>\n",
       "      <td>22.94</td>\n",
       "      <td>21.95</td>\n",
       "      <td>56.83K</td>\n",
       "      <td>1.61%</td>\n",
       "    </tr>\n",
       "    <tr>\n",
       "      <th>2001-09-28</th>\n",
       "      <td>23.43</td>\n",
       "      <td>22.76</td>\n",
       "      <td>23.52</td>\n",
       "      <td>22.76</td>\n",
       "      <td>60.08K</td>\n",
       "      <td>3.03%</td>\n",
       "    </tr>\n",
       "    <tr>\n",
       "      <th>...</th>\n",
       "      <td>...</td>\n",
       "      <td>...</td>\n",
       "      <td>...</td>\n",
       "      <td>...</td>\n",
       "      <td>...</td>\n",
       "      <td>...</td>\n",
       "    </tr>\n",
       "    <tr>\n",
       "      <th>2020-09-16</th>\n",
       "      <td>40.16</td>\n",
       "      <td>38.35</td>\n",
       "      <td>40.34</td>\n",
       "      <td>38.35</td>\n",
       "      <td>367.61K</td>\n",
       "      <td>4.91%</td>\n",
       "    </tr>\n",
       "    <tr>\n",
       "      <th>2020-09-17</th>\n",
       "      <td>40.97</td>\n",
       "      <td>40.19</td>\n",
       "      <td>41.22</td>\n",
       "      <td>39.42</td>\n",
       "      <td>280.67K</td>\n",
       "      <td>2.02%</td>\n",
       "    </tr>\n",
       "    <tr>\n",
       "      <th>2020-09-18</th>\n",
       "      <td>41.11</td>\n",
       "      <td>40.97</td>\n",
       "      <td>41.49</td>\n",
       "      <td>40.30</td>\n",
       "      <td>73.76K</td>\n",
       "      <td>0.34%</td>\n",
       "    </tr>\n",
       "    <tr>\n",
       "      <th>2020-09-21</th>\n",
       "      <td>39.31</td>\n",
       "      <td>40.98</td>\n",
       "      <td>41.27</td>\n",
       "      <td>38.66</td>\n",
       "      <td>33.73K</td>\n",
       "      <td>-4.38%</td>\n",
       "    </tr>\n",
       "    <tr>\n",
       "      <th>2020-09-22</th>\n",
       "      <td>39.77</td>\n",
       "      <td>39.92</td>\n",
       "      <td>40.26</td>\n",
       "      <td>39.20</td>\n",
       "      <td>-</td>\n",
       "      <td>1.17%</td>\n",
       "    </tr>\n",
       "  </tbody>\n",
       "</table>\n",
       "<p>4857 rows × 6 columns</p>\n",
       "</div>"
      ],
      "text/plain": [
       "            Price   Open   High    Low     Vol. Change %\n",
       "Date                                                    \n",
       "2001-09-24  22.01  25.90  25.90  21.80  108.96K  -15.25%\n",
       "2001-09-25  21.81  22.15  23.15  21.25   90.61K   -0.91%\n",
       "2001-09-26  22.38  22.17  22.50  20.30   82.37K    2.61%\n",
       "2001-09-27  22.74  22.71  22.94  21.95   56.83K    1.61%\n",
       "2001-09-28  23.43  22.76  23.52  22.76   60.08K    3.03%\n",
       "...           ...    ...    ...    ...      ...      ...\n",
       "2020-09-16  40.16  38.35  40.34  38.35  367.61K    4.91%\n",
       "2020-09-17  40.97  40.19  41.22  39.42  280.67K    2.02%\n",
       "2020-09-18  41.11  40.97  41.49  40.30   73.76K    0.34%\n",
       "2020-09-21  39.31  40.98  41.27  38.66   33.73K   -4.38%\n",
       "2020-09-22  39.77  39.92  40.26  39.20        -    1.17%\n",
       "\n",
       "[4857 rows x 6 columns]"
      ]
     },
     "execution_count": 4,
     "metadata": {},
     "output_type": "execute_result"
    }
   ],
   "source": [
    "df = df.sort_index()\n",
    "df"
   ]
  },
  {
   "cell_type": "code",
   "execution_count": 5,
   "metadata": {},
   "outputs": [
    {
     "data": {
      "text/plain": [
       "<matplotlib.axes._subplots.AxesSubplot at 0x7fad847db7d0>"
      ]
     },
     "execution_count": 5,
     "metadata": {},
     "output_type": "execute_result"
    },
    {
     "data": {
      "image/png": "[encoded data removed]",
      "text/plain": [
       "<Figure size 432x288 with 1 Axes>"
      ]
     },
     "metadata": {
      "needs_background": "light"
     },
     "output_type": "display_data"
    }
   ],
   "source": [
    "df['Price'].plot()"
   ]
  },
  {
   "cell_type": "code",
   "execution_count": 8,
   "metadata": {},
   "outputs": [],
   "source": [
    "weekly_average = df.resample('W').mean()"
   ]
  },
  {
   "cell_type": "code",
   "execution_count": 9,
   "metadata": {},
   "outputs": [
    {
     "data": {
      "text/plain": [
       "<matplotlib.axes._subplots.AxesSubplot at 0x7fad8538a110>"
      ]
     },
     "execution_count": 9,
     "metadata": {},
     "output_type": "execute_result"
    },
    {
     "data": {
      "image/png": "[encoded data removed]",
      "text/plain": [
       "<Figure size 432x288 with 1 Axes>"
      ]
     },
     "metadata": {
      "needs_background": "light"
     },
     "output_type": "display_data"
    }
   ],
   "source": [
    "weekly_average.plot()"
   ]
  },
  {
   "cell_type": "code",
   "execution_count": 10,
   "metadata": {},
   "outputs": [
    {
     "data": {
      "text/html": [
       "<div>\n",
       "<style scoped>\n",
       "    .dataframe tbody tr th:only-of-type {\n",
       "        vertical-align: middle;\n",
       "    }\n",
       "\n",
       "    .dataframe tbody tr th {\n",
       "        vertical-align: top;\n",
       "    }\n",
       "\n",
       "    .dataframe thead th {\n",
       "        text-align: right;\n",
       "    }\n",
       "</style>\n",
       "<table border=\"1\" class=\"dataframe\">\n",
       "  <thead>\n",
       "    <tr style=\"text-align: right;\">\n",
       "      <th></th>\n",
       "      <th>Price</th>\n",
       "    </tr>\n",
       "    <tr>\n",
       "      <th>Date</th>\n",
       "      <th></th>\n",
       "    </tr>\n",
       "  </thead>\n",
       "  <tbody>\n",
       "    <tr>\n",
       "      <th>2001-09-30</th>\n",
       "      <td>22.474000</td>\n",
       "    </tr>\n",
       "    <tr>\n",
       "      <th>2001-10-07</th>\n",
       "      <td>22.634000</td>\n",
       "    </tr>\n",
       "    <tr>\n",
       "      <th>2001-10-14</th>\n",
       "      <td>22.660000</td>\n",
       "    </tr>\n",
       "    <tr>\n",
       "      <th>2001-10-21</th>\n",
       "      <td>21.848000</td>\n",
       "    </tr>\n",
       "    <tr>\n",
       "      <th>2001-10-28</th>\n",
       "      <td>21.996000</td>\n",
       "    </tr>\n",
       "    <tr>\n",
       "      <th>...</th>\n",
       "      <td>...</td>\n",
       "    </tr>\n",
       "    <tr>\n",
       "      <th>2020-08-30</th>\n",
       "      <td>43.074000</td>\n",
       "    </tr>\n",
       "    <tr>\n",
       "      <th>2020-09-06</th>\n",
       "      <td>41.128333</td>\n",
       "    </tr>\n",
       "    <tr>\n",
       "      <th>2020-09-13</th>\n",
       "      <td>37.728000</td>\n",
       "    </tr>\n",
       "    <tr>\n",
       "      <th>2020-09-20</th>\n",
       "      <td>39.556000</td>\n",
       "    </tr>\n",
       "    <tr>\n",
       "      <th>2020-09-27</th>\n",
       "      <td>39.540000</td>\n",
       "    </tr>\n",
       "  </tbody>\n",
       "</table>\n",
       "<p>992 rows × 1 columns</p>\n",
       "</div>"
      ],
      "text/plain": [
       "                Price\n",
       "Date                 \n",
       "2001-09-30  22.474000\n",
       "2001-10-07  22.634000\n",
       "2001-10-14  22.660000\n",
       "2001-10-21  21.848000\n",
       "2001-10-28  21.996000\n",
       "...               ...\n",
       "2020-08-30  43.074000\n",
       "2020-09-06  41.128333\n",
       "2020-09-13  37.728000\n",
       "2020-09-20  39.556000\n",
       "2020-09-27  39.540000\n",
       "\n",
       "[992 rows x 1 columns]"
      ]
     },
     "execution_count": 10,
     "metadata": {},
     "output_type": "execute_result"
    }
   ],
   "source": [
    "oil_df = weekly_average[['Price']]\n",
    "oil_df"
   ]
  },
  {
   "cell_type": "code",
   "execution_count": 11,
   "metadata": {},
   "outputs": [],
   "source": [
    "window_size = 26"
   ]
  },
  {
   "cell_type": "code",
   "execution_count": 12,
   "metadata": {},
   "outputs": [
    {
     "name": "stderr",
     "output_type": "stream",
     "text": [
      "/Users/liwei2/opt/anaconda3/envs/dev/lib/python3.7/site-packages/ipykernel_launcher.py:1: SettingWithCopyWarning: \n",
      "A value is trying to be set on a copy of a slice from a DataFrame.\n",
      "Try using .loc[row_indexer,col_indexer] = value instead\n",
      "\n",
      "See the caveats in the documentation: https://pandas.pydata.org/pandas-docs/stable/user_guide/indexing.html#returning-a-view-versus-a-copy\n",
      "  \"\"\"Entry point for launching an IPython kernel.\n"
     ]
    }
   ],
   "source": [
    "oil_df['fip'] = df['Price'].rolling(window_size).apply(fip_score)"
   ]
  },
  {
   "cell_type": "code",
   "execution_count": 13,
   "metadata": {},
   "outputs": [
    {
     "data": {
      "text/html": [
       "<div>\n",
       "<style scoped>\n",
       "    .dataframe tbody tr th:only-of-type {\n",
       "        vertical-align: middle;\n",
       "    }\n",
       "\n",
       "    .dataframe tbody tr th {\n",
       "        vertical-align: top;\n",
       "    }\n",
       "\n",
       "    .dataframe thead th {\n",
       "        text-align: right;\n",
       "    }\n",
       "</style>\n",
       "<table border=\"1\" class=\"dataframe\">\n",
       "  <thead>\n",
       "    <tr style=\"text-align: right;\">\n",
       "      <th></th>\n",
       "      <th>Price</th>\n",
       "      <th>fip</th>\n",
       "    </tr>\n",
       "    <tr>\n",
       "      <th>Date</th>\n",
       "      <th></th>\n",
       "      <th></th>\n",
       "    </tr>\n",
       "  </thead>\n",
       "  <tbody>\n",
       "    <tr>\n",
       "      <th>2001-09-30</th>\n",
       "      <td>22.474000</td>\n",
       "      <td>0.00</td>\n",
       "    </tr>\n",
       "    <tr>\n",
       "      <th>2001-10-07</th>\n",
       "      <td>22.634000</td>\n",
       "      <td>0.00</td>\n",
       "    </tr>\n",
       "    <tr>\n",
       "      <th>2001-10-14</th>\n",
       "      <td>22.660000</td>\n",
       "      <td>0.00</td>\n",
       "    </tr>\n",
       "    <tr>\n",
       "      <th>2001-10-21</th>\n",
       "      <td>21.848000</td>\n",
       "      <td>0.00</td>\n",
       "    </tr>\n",
       "    <tr>\n",
       "      <th>2001-10-28</th>\n",
       "      <td>21.996000</td>\n",
       "      <td>0.00</td>\n",
       "    </tr>\n",
       "    <tr>\n",
       "      <th>...</th>\n",
       "      <td>...</td>\n",
       "      <td>...</td>\n",
       "    </tr>\n",
       "    <tr>\n",
       "      <th>2020-08-30</th>\n",
       "      <td>43.074000</td>\n",
       "      <td>0.00</td>\n",
       "    </tr>\n",
       "    <tr>\n",
       "      <th>2020-09-06</th>\n",
       "      <td>41.128333</td>\n",
       "      <td>-0.16</td>\n",
       "    </tr>\n",
       "    <tr>\n",
       "      <th>2020-09-13</th>\n",
       "      <td>37.728000</td>\n",
       "      <td>0.00</td>\n",
       "    </tr>\n",
       "    <tr>\n",
       "      <th>2020-09-20</th>\n",
       "      <td>39.556000</td>\n",
       "      <td>0.00</td>\n",
       "    </tr>\n",
       "    <tr>\n",
       "      <th>2020-09-27</th>\n",
       "      <td>39.540000</td>\n",
       "      <td>0.00</td>\n",
       "    </tr>\n",
       "  </tbody>\n",
       "</table>\n",
       "<p>992 rows × 2 columns</p>\n",
       "</div>"
      ],
      "text/plain": [
       "                Price   fip\n",
       "Date                       \n",
       "2001-09-30  22.474000  0.00\n",
       "2001-10-07  22.634000  0.00\n",
       "2001-10-14  22.660000  0.00\n",
       "2001-10-21  21.848000  0.00\n",
       "2001-10-28  21.996000  0.00\n",
       "...               ...   ...\n",
       "2020-08-30  43.074000  0.00\n",
       "2020-09-06  41.128333 -0.16\n",
       "2020-09-13  37.728000  0.00\n",
       "2020-09-20  39.556000  0.00\n",
       "2020-09-27  39.540000  0.00\n",
       "\n",
       "[992 rows x 2 columns]"
      ]
     },
     "execution_count": 13,
     "metadata": {},
     "output_type": "execute_result"
    }
   ],
   "source": [
    "oil_df = oil_df.fillna(0)\n",
    "oil_df"
   ]
  },
  {
   "cell_type": "code",
   "execution_count": 14,
   "metadata": {},
   "outputs": [],
   "source": [
    "# Set the random seed for reproducibility\n",
    "# Note: This is used for model prototyping, \n",
    "# but it is good practice to comment this out and \n",
    "# run multiple experiments to evaluate your model.\n",
    "from numpy.random import seed\n",
    "\n",
    "seed(1)\n",
    "from tensorflow import random\n",
    "\n",
    "random.set_seed(2)"
   ]
  },
  {
   "cell_type": "code",
   "execution_count": 15,
   "metadata": {},
   "outputs": [],
   "source": [
    "def window_data(df, window, feature_col_number, target_col_number):\n",
    "    \"\"\"\n",
    "    This function accepts the column number for the features (X) and the target (y).\n",
    "    It chunks the data up with a rolling window of Xt - window to predict Xt.\n",
    "    It returns two numpy arrays of X and y.\n",
    "    \"\"\"\n",
    "    X = []\n",
    "    y = []\n",
    "    for i in range(len(df) - window - 1):\n",
    "        features = df.iloc[i : (i + window), feature_col_number]\n",
    "        target = df.iloc[(i + window), target_col_number]\n",
    "        X.append(features)\n",
    "        y.append(target)\n",
    "    return np.array(X), np.array(y).reshape(-1, 1)"
   ]
  },
  {
   "cell_type": "code",
   "execution_count": 16,
   "metadata": {},
   "outputs": [
    {
     "name": "stdout",
     "output_type": "stream",
     "text": [
      "X sample values:\n",
      "[[22.474  22.634  22.66   21.848  21.996  21.154  20.684  19.618  18.61\n",
      "  19.09   19.362  18.432  19.456  20.86   20.71   20.594  18.524  19.3825\n",
      "  19.714  19.964  21.21   20.7975 21.464  23.264  24.348  25.17  ]\n",
      " [22.634  22.66   21.848  21.996  21.154  20.684  19.618  18.61   19.09\n",
      "  19.362  18.432  19.456  20.86   20.71   20.594  18.524  19.3825 19.714\n",
      "  19.964  21.21   20.7975 21.464  23.264  24.348  25.17   25.6325]\n",
      " [22.66   21.848  21.996  21.154  20.684  19.618  18.61   19.09   19.362\n",
      "  18.432  19.456  20.86   20.71   20.594  18.524  19.3825 19.714  19.964\n",
      "  21.21   20.7975 21.464  23.264  24.348  25.17   25.6325 26.988 ]] \n",
      "\n",
      "y sample values:\n",
      "[[25.6325]\n",
      " [26.988 ]\n",
      " [25.39  ]]\n"
     ]
    }
   ],
   "source": [
    "# Define the window size\n",
    "#window_size = 30\n",
    "\n",
    "# Set the index of the feature and target columns\n",
    "feature_column = 0\n",
    "target_column = 0\n",
    "\n",
    "# Create the features (X) and target (y) data using the window_data() function.\n",
    "X, y = window_data(oil_df, window_size, feature_column, target_column)\n",
    "\n",
    "# Print a few sample values from X and y\n",
    "print (f\"X sample values:\\n{X[:3]} \\n\")\n",
    "print (f\"y sample values:\\n{y[:3]}\")"
   ]
  },
  {
   "cell_type": "code",
   "execution_count": 17,
   "metadata": {},
   "outputs": [],
   "source": [
    "x_a = np.array([oil_df['fip'][window_size:len(oil_df)-1]]).T"
   ]
  },
  {
   "cell_type": "code",
   "execution_count": 18,
   "metadata": {},
   "outputs": [],
   "source": [
    "X_a = np.append(X, x_a, axis=1)"
   ]
  },
  {
   "cell_type": "code",
   "execution_count": 19,
   "metadata": {},
   "outputs": [
    {
     "name": "stdout",
     "output_type": "stream",
     "text": [
      "X sample values:\n",
      "[[22.474  22.634  22.66   21.848  21.996  21.154  20.684  19.618  18.61\n",
      "  19.09   19.362  18.432  19.456  20.86   20.71   20.594  18.524  19.3825\n",
      "  19.714  19.964  21.21   20.7975 21.464  23.264  24.348  25.17    0.    ]\n",
      " [22.634  22.66   21.848  21.996  21.154  20.684  19.618  18.61   19.09\n",
      "  19.362  18.432  19.456  20.86   20.71   20.594  18.524  19.3825 19.714\n",
      "  19.964  21.21   20.7975 21.464  23.264  24.348  25.17   25.6325  0.    ]\n",
      " [22.66   21.848  21.996  21.154  20.684  19.618  18.61   19.09   19.362\n",
      "  18.432  19.456  20.86   20.71   20.594  18.524  19.3825 19.714  19.964\n",
      "  21.21   20.7975 21.464  23.264  24.348  25.17   25.6325 26.988   0.    ]] \n",
      "\n",
      "y sample values:\n",
      "[[25.6325]\n",
      " [26.988 ]\n",
      " [25.39  ]]\n"
     ]
    }
   ],
   "source": [
    "\n",
    "# Print a few sample values from X and y\n",
    "print (f\"X sample values:\\n{X_a[:3]} \\n\")\n",
    "print (f\"y sample values:\\n{y[:3]}\")"
   ]
  },
  {
   "cell_type": "code",
   "execution_count": 20,
   "metadata": {},
   "outputs": [],
   "source": [
    "X = X_a"
   ]
  },
  {
   "cell_type": "code",
   "execution_count": 21,
   "metadata": {},
   "outputs": [],
   "source": [
    "# Manually splitting the data\n",
    "split = int(0.7 * len(X))\n",
    "\n",
    "X_train = X_a[: split - 1]\n",
    "X_test = X_a[split:]\n",
    "\n",
    "y_train = y[: split - 1]\n",
    "y_test = y[split:]"
   ]
  },
  {
   "cell_type": "markdown",
   "metadata": {},
   "source": [
    "#### Scale Data with `MinMaxScaler`\n",
    "\n",
    "Before training the RNN LSTM model, use the `MinMaxScaler` from `sklearn` to scale the training and testing data between `0` and `1`.\n",
    "\n",
    "**Note:** You need to scale both features and target sets."
   ]
  },
  {
   "cell_type": "code",
   "execution_count": 22,
   "metadata": {},
   "outputs": [],
   "source": [
    "# Importing the MinMaxScaler from sklearn\n",
    "from sklearn.preprocessing import MinMaxScaler\n",
    "\n",
    "# Create a MinMaxScaler object\n",
    "scaler = MinMaxScaler()\n",
    "\n",
    "# Fit the MinMaxScaler object with the features data X\n",
    "scaler.fit(X)\n",
    "\n",
    "# Scale the features training and testing sets\n",
    "X_train = scaler.transform(X_train)\n",
    "X_test = scaler.transform(X_test)\n",
    "\n",
    "# Fit the MinMaxScaler object with the target data Y\n",
    "scaler.fit(y)\n",
    "\n",
    "# Scale the target training and testing sets\n",
    "y_train = scaler.transform(y_train)\n",
    "y_test = scaler.transform(y_test)"
   ]
  },
  {
   "cell_type": "code",
   "execution_count": 23,
   "metadata": {
    "scrolled": true
   },
   "outputs": [
    {
     "name": "stdout",
     "output_type": "stream",
     "text": [
      "X_train sample values:\n",
      "[[[0.03259007]\n",
      "  [0.03388013]\n",
      "  [0.03408976]\n",
      "  [0.02754272]\n",
      "  [0.02873603]\n",
      "  [0.12439953]\n",
      "  [0.12100695]\n",
      "  [0.11331228]\n",
      "  [0.10603627]\n",
      "  [0.10950104]\n",
      "  [0.1114644 ]\n",
      "  [0.10475142]\n",
      "  [0.11214292]\n",
      "  [0.12227736]\n",
      "  [0.12119462]\n",
      "  [0.1203573 ]\n",
      "  [0.1054155 ]\n",
      "  [0.11161238]\n",
      "  [0.11400523]\n",
      "  [0.1158098 ]\n",
      "  [0.12480375]\n",
      "  [0.12182622]\n",
      "  [0.12663719]\n",
      "  [0.13963006]\n",
      "  [0.14745466]\n",
      "  [0.15338807]\n",
      "  [0.55      ]]\n",
      "\n",
      " [[0.03388013]\n",
      "  [0.03408976]\n",
      "  [0.02754272]\n",
      "  [0.02873603]\n",
      "  [0.0219471 ]\n",
      "  [0.12100695]\n",
      "  [0.11331228]\n",
      "  [0.10603627]\n",
      "  [0.10950104]\n",
      "  [0.1114644 ]\n",
      "  [0.10475142]\n",
      "  [0.11214292]\n",
      "  [0.12227736]\n",
      "  [0.12119462]\n",
      "  [0.1203573 ]\n",
      "  [0.1054155 ]\n",
      "  [0.11161238]\n",
      "  [0.11400523]\n",
      "  [0.1158098 ]\n",
      "  [0.12480375]\n",
      "  [0.12182622]\n",
      "  [0.12663719]\n",
      "  [0.13963006]\n",
      "  [0.14745466]\n",
      "  [0.15338807]\n",
      "  [0.15672652]\n",
      "  [0.55      ]]\n",
      "\n",
      " [[0.03408976]\n",
      "  [0.02754272]\n",
      "  [0.02873603]\n",
      "  [0.0219471 ]\n",
      "  [0.01815756]\n",
      "  [0.11331228]\n",
      "  [0.10603627]\n",
      "  [0.10950104]\n",
      "  [0.1114644 ]\n",
      "  [0.10475142]\n",
      "  [0.11214292]\n",
      "  [0.12227736]\n",
      "  [0.12119462]\n",
      "  [0.1203573 ]\n",
      "  [0.1054155 ]\n",
      "  [0.11161238]\n",
      "  [0.11400523]\n",
      "  [0.1158098 ]\n",
      "  [0.12480375]\n",
      "  [0.12182622]\n",
      "  [0.12663719]\n",
      "  [0.13963006]\n",
      "  [0.14745466]\n",
      "  [0.15338807]\n",
      "  [0.15672652]\n",
      "  [0.16651087]\n",
      "  [0.55      ]]] \n",
      "\n",
      "X_test sample values:\n",
      "[[[0.61250307]\n",
      "  [0.59668375]\n",
      "  [0.60558514]\n",
      "  [0.59631286]\n",
      "  [0.58866927]\n",
      "  [0.60415411]\n",
      "  [0.57054588]\n",
      "  [0.56236037]\n",
      "  [0.55823153]\n",
      "  [0.53647568]\n",
      "  [0.52397365]\n",
      "  [0.51584589]\n",
      "  [0.48890734]\n",
      "  [0.4566417 ]\n",
      "  [0.41284129]\n",
      "  [0.37439682]\n",
      "  [0.37429577]\n",
      "  [0.35896418]\n",
      "  [0.32362357]\n",
      "  [0.31364552]\n",
      "  [0.30930254]\n",
      "  [0.30172336]\n",
      "  [0.33729496]\n",
      "  [0.34437126]\n",
      "  [0.3481801 ]\n",
      "  [0.32922494]\n",
      "  [0.55      ]]\n",
      "\n",
      " [[0.59668375]\n",
      "  [0.60558514]\n",
      "  [0.59631286]\n",
      "  [0.58866927]\n",
      "  [0.5578369 ]\n",
      "  [0.57054588]\n",
      "  [0.56236037]\n",
      "  [0.55823153]\n",
      "  [0.53647568]\n",
      "  [0.52397365]\n",
      "  [0.51584589]\n",
      "  [0.48890734]\n",
      "  [0.4566417 ]\n",
      "  [0.41284129]\n",
      "  [0.37439682]\n",
      "  [0.37429577]\n",
      "  [0.35896418]\n",
      "  [0.32362357]\n",
      "  [0.31364552]\n",
      "  [0.30930254]\n",
      "  [0.30172336]\n",
      "  [0.33729496]\n",
      "  [0.34437126]\n",
      "  [0.3481801 ]\n",
      "  [0.32922494]\n",
      "  [0.33551926]\n",
      "  [0.55      ]]\n",
      "\n",
      " [[0.60558514]\n",
      "  [0.59631286]\n",
      "  [0.58866927]\n",
      "  [0.5578369 ]\n",
      "  [0.52029623]\n",
      "  [0.56236037]\n",
      "  [0.55823153]\n",
      "  [0.53647568]\n",
      "  [0.52397365]\n",
      "  [0.51584589]\n",
      "  [0.48890734]\n",
      "  [0.4566417 ]\n",
      "  [0.41284129]\n",
      "  [0.37439682]\n",
      "  [0.37429577]\n",
      "  [0.35896418]\n",
      "  [0.32362357]\n",
      "  [0.31364552]\n",
      "  [0.30930254]\n",
      "  [0.30172336]\n",
      "  [0.33729496]\n",
      "  [0.34437126]\n",
      "  [0.3481801 ]\n",
      "  [0.32922494]\n",
      "  [0.33551926]\n",
      "  [0.31579897]\n",
      "  [0.55      ]]]\n"
     ]
    }
   ],
   "source": [
    "# Reshape the features data\n",
    "X_train = X_train.reshape((X_train.shape[0], X_train.shape[1], 1))\n",
    "X_test = X_test.reshape((X_test.shape[0], X_test.shape[1], 1))\n",
    "\n",
    "# Print some sample data after reshaping the datasets\n",
    "print (f\"X_train sample values:\\n{X_train[:3]} \\n\")\n",
    "print (f\"X_test sample values:\\n{X_test[:3]}\")"
   ]
  },
  {
   "cell_type": "markdown",
   "metadata": {},
   "source": [
    "### Build and Train the LSTM RNN"
   ]
  },
  {
   "cell_type": "markdown",
   "metadata": {},
   "source": [
    "#### Create the LSTM RNN Model Structure\n",
    "\n",
    "Design the structure of your RNN LSTM as follows:\n",
    "\n",
    "* Number of units per layer: `30` (same as the window size)\n",
    "\n",
    "* Dropout fraction: `0.2` (20% of neurons will be randomly dropped on each epoch)\n",
    "\n",
    "* Add three `LSTM` layers to your model, remember to add a `Dropout` layer after each `LSTM` layer, and to set `return_sequences=True` in the first two layers only.\n",
    "\n",
    "* Add a `Dense` output layer with one unit."
   ]
  },
  {
   "cell_type": "code",
   "execution_count": 24,
   "metadata": {},
   "outputs": [],
   "source": [
    "# Importing required Keras modules\n",
    "from tensorflow.keras.models import Sequential\n",
    "from tensorflow.keras.layers import LSTM, Dense, Dropout"
   ]
  },
  {
   "cell_type": "code",
   "execution_count": 25,
   "metadata": {},
   "outputs": [],
   "source": [
    "number_units = X_a.shape[1]"
   ]
  },
  {
   "cell_type": "code",
   "execution_count": 26,
   "metadata": {},
   "outputs": [
    {
     "data": {
      "text/plain": [
       "27"
      ]
     },
     "execution_count": 26,
     "metadata": {},
     "output_type": "execute_result"
    }
   ],
   "source": [
    "number_units"
   ]
  },
  {
   "cell_type": "code",
   "execution_count": 27,
   "metadata": {},
   "outputs": [],
   "source": [
    "# Define the LSTM RNN model.\n",
    "model = Sequential()\n",
    "\n",
    "# Initial model setup\n",
    "#number_units = 30\n",
    "dropout_fraction = 0.2\n",
    "\n",
    "# Layer 1\n",
    "model.add(LSTM(\n",
    "    units=number_units,\n",
    "    return_sequences=True,\n",
    "    input_shape=(X_train.shape[1], 1))\n",
    "    )\n",
    "model.add(Dropout(dropout_fraction))\n",
    "\n",
    "# Layer 2\n",
    "model.add(LSTM(units=number_units, return_sequences=True))\n",
    "model.add(Dropout(dropout_fraction))\n",
    "\n",
    "# Layer 3\n",
    "model.add(LSTM(units=number_units))\n",
    "model.add(Dropout(dropout_fraction))\n",
    "\n",
    "# Output layer\n",
    "model.add(Dense(1))"
   ]
  },
  {
   "cell_type": "code",
   "execution_count": 28,
   "metadata": {},
   "outputs": [
    {
     "name": "stdout",
     "output_type": "stream",
     "text": [
      "Model: \"sequential\"\n",
      "_________________________________________________________________\n",
      "Layer (type)                 Output Shape              Param #   \n",
      "=================================================================\n",
      "lstm (LSTM)                  (None, 27, 27)            3132      \n",
      "_________________________________________________________________\n",
      "dropout (Dropout)            (None, 27, 27)            0         \n",
      "_________________________________________________________________\n",
      "lstm_1 (LSTM)                (None, 27, 27)            5940      \n",
      "_________________________________________________________________\n",
      "dropout_1 (Dropout)          (None, 27, 27)            0         \n",
      "_________________________________________________________________\n",
      "lstm_2 (LSTM)                (None, 27)                5940      \n",
      "_________________________________________________________________\n",
      "dropout_2 (Dropout)          (None, 27)                0         \n",
      "_________________________________________________________________\n",
      "dense (Dense)                (None, 1)                 28        \n",
      "=================================================================\n",
      "Total params: 15,040\n",
      "Trainable params: 15,040\n",
      "Non-trainable params: 0\n",
      "_________________________________________________________________\n"
     ]
    }
   ],
   "source": [
    "# Compile the model\n",
    "model.compile(optimizer=\"adam\", loss=\"mean_squared_error\")\n",
    "# Show the model summary\n",
    "model.summary()"
   ]
  },
  {
   "cell_type": "code",
   "execution_count": 29,
   "metadata": {},
   "outputs": [
    {
     "name": "stdout",
     "output_type": "stream",
     "text": [
      "Epoch 1/10\n",
      "8/8 [==============================] - 0s 47ms/step - loss: 0.0913\n",
      "Epoch 2/10\n",
      "8/8 [==============================] - 0s 44ms/step - loss: 0.0267\n",
      "Epoch 3/10\n",
      "8/8 [==============================] - 0s 46ms/step - loss: 0.0204\n",
      "Epoch 4/10\n",
      "8/8 [==============================] - 0s 48ms/step - loss: 0.0150: 0s - loss: 0.01\n",
      "Epoch 5/10\n",
      "8/8 [==============================] - 0s 47ms/step - loss: 0.0147\n",
      "Epoch 6/10\n",
      "8/8 [==============================] - 0s 44ms/step - loss: 0.0146\n",
      "Epoch 7/10\n",
      "8/8 [==============================] - 0s 45ms/step - loss: 0.0122\n",
      "Epoch 8/10\n",
      "8/8 [==============================] - 0s 51ms/step - loss: 0.0121\n",
      "Epoch 9/10\n",
      "8/8 [==============================] - 0s 46ms/step - loss: 0.0112\n",
      "Epoch 10/10\n",
      "8/8 [==============================] - 0s 42ms/step - loss: 0.0117\n"
     ]
    },
    {
     "data": {
      "text/plain": [
       "<tensorflow.python.keras.callbacks.History at 0x7fad9081d150>"
      ]
     },
     "execution_count": 29,
     "metadata": {},
     "output_type": "execute_result"
    }
   ],
   "source": [
    "# Train the model\n",
    "model.fit(X_train, y_train, \n",
    "          epochs=10, shuffle=False, \n",
    "          batch_size=90, verbose=1)"
   ]
  },
  {
   "cell_type": "code",
   "execution_count": 30,
   "metadata": {},
   "outputs": [
    {
     "data": {
      "text/plain": [
       "0.004041294567286968"
      ]
     },
     "execution_count": 30,
     "metadata": {},
     "output_type": "execute_result"
    }
   ],
   "source": [
    "# Evaluate the model\n",
    "model.evaluate(X_test, y_test, verbose=0)"
   ]
  },
  {
   "cell_type": "code",
   "execution_count": 31,
   "metadata": {},
   "outputs": [],
   "source": [
    "# Make predictions using the testing data X_test\n",
    "predicted = model.predict(X_test)"
   ]
  },
  {
   "cell_type": "code",
   "execution_count": 32,
   "metadata": {},
   "outputs": [],
   "source": [
    "# Recover the original prices instead of the scaled version\n",
    "predicted_prices = scaler.inverse_transform(predicted)\n",
    "real_prices = scaler.inverse_transform(y_test.reshape(-1, 1))"
   ]
  },
  {
   "cell_type": "markdown",
   "metadata": {},
   "source": [
    "#### Plotting Predicted Vs. Real Prices"
   ]
  },
  {
   "cell_type": "code",
   "execution_count": 33,
   "metadata": {},
   "outputs": [
    {
     "data": {
      "text/html": [
       "<div>\n",
       "<style scoped>\n",
       "    .dataframe tbody tr th:only-of-type {\n",
       "        vertical-align: middle;\n",
       "    }\n",
       "\n",
       "    .dataframe tbody tr th {\n",
       "        vertical-align: top;\n",
       "    }\n",
       "\n",
       "    .dataframe thead th {\n",
       "        text-align: right;\n",
       "    }\n",
       "</style>\n",
       "<table border=\"1\" class=\"dataframe\">\n",
       "  <thead>\n",
       "    <tr style=\"text-align: right;\">\n",
       "      <th></th>\n",
       "      <th>Actual</th>\n",
       "      <th>Predicted</th>\n",
       "    </tr>\n",
       "    <tr>\n",
       "      <th>Date</th>\n",
       "      <th></th>\n",
       "      <th></th>\n",
       "    </tr>\n",
       "  </thead>\n",
       "  <tbody>\n",
       "    <tr>\n",
       "      <th>2015-03-15</th>\n",
       "      <td>50.402</td>\n",
       "      <td>62.196373</td>\n",
       "    </tr>\n",
       "    <tr>\n",
       "      <th>2015-03-22</th>\n",
       "      <td>47.670</td>\n",
       "      <td>60.744591</td>\n",
       "    </tr>\n",
       "    <tr>\n",
       "      <th>2015-03-29</th>\n",
       "      <td>44.336</td>\n",
       "      <td>59.425808</td>\n",
       "    </tr>\n",
       "    <tr>\n",
       "      <th>2015-04-05</th>\n",
       "      <td>48.894</td>\n",
       "      <td>58.186020</td>\n",
       "    </tr>\n",
       "    <tr>\n",
       "      <th>2015-04-12</th>\n",
       "      <td>48.930</td>\n",
       "      <td>57.133018</td>\n",
       "    </tr>\n",
       "  </tbody>\n",
       "</table>\n",
       "</div>"
      ],
      "text/plain": [
       "            Actual  Predicted\n",
       "Date                         \n",
       "2015-03-15  50.402  62.196373\n",
       "2015-03-22  47.670  60.744591\n",
       "2015-03-29  44.336  59.425808\n",
       "2015-04-05  48.894  58.186020\n",
       "2015-04-12  48.930  57.133018"
      ]
     },
     "execution_count": 33,
     "metadata": {},
     "output_type": "execute_result"
    }
   ],
   "source": [
    "# Create a DataFrame of Real and Predicted values\n",
    "futures = pd.DataFrame({\n",
    "    \"Actual\": real_prices.ravel(),\n",
    "    \"Predicted\": predicted_prices.ravel()\n",
    "}, index = oil_df.index[-len(real_prices): ]) \n",
    "\n",
    "# Show the DataFrame's head\n",
    "futures.head()"
   ]
  },
  {
   "cell_type": "code",
   "execution_count": 35,
   "metadata": {},
   "outputs": [
    {
     "data": {
      "text/plain": [
       "<matplotlib.axes._subplots.AxesSubplot at 0x7fad90814490>"
      ]
     },
     "execution_count": 35,
     "metadata": {},
     "output_type": "execute_result"
    },
    {
     "data": {
      "image/png": "[encoded data removed]",
      "text/plain": [
       "<Figure size 432x288 with 1 Axes>"
      ]
     },
     "metadata": {
      "needs_background": "light"
     },
     "output_type": "display_data"
    }
   ],
   "source": [
    "# Plot the real vs predicted prices as a line chart\n",
    "futures.plot(title=\"Actual Vs. Predicted Prices\")"
   ]
  },
  {
   "cell_type": "markdown",
   "metadata": {},
   "source": [
    "## Predicate futures"
   ]
  },
  {
   "cell_type": "code",
   "execution_count": 77,
   "metadata": {},
   "outputs": [],
   "source": [
    "import datetime"
   ]
  },
  {
   "cell_type": "code",
   "execution_count": 36,
   "metadata": {},
   "outputs": [],
   "source": [
    "# 30 days historical prices\n",
    "prices = oil_df.iloc[-window_size:, 0]\n",
    "\n",
    "# predict price for the next 20 days\n",
    "number_future_periods = 1\n",
    "periods_unit = 'w'\n",
    "count = 0\n",
    "while count < number_future_periods:\n",
    "\n",
    "    count = count + 1\n",
    "    #print(count)\n",
    "    \n",
    "    fip = fip_score(prices)\n",
    "\n",
    "    X_input = prices.to_list()\n",
    "    X_input.append(fip)\n",
    "    X_input = np.array(X_input)\n",
    "    X_input = np.asmatrix(X_input)\n",
    "    X_input = scaler.transform(X_input)\n",
    "    X_input = X_input.reshape((X_input.shape[0], X_input.shape[1], 1))\n",
    "\n",
    "    predicted = model.predict(X_input)\n",
    "    predicted_prices = scaler.inverse_transform(predicted)\n",
    "\n",
    "    next_date = ((prices.index[-1]+\n",
    "                  pd.to_timedelta(number_future_periods, \n",
    "                                  unit=periods_unit))\n",
    "                 .strftime(format= '%Y-%m-%d'))\n",
    "\n",
    "    prices.loc[next_date] = predicted_prices[0,0]\n",
    "\n",
    "    prices = prices.reset_index()\n",
    "    prices.set_index('Date', inplace=True)\n",
    "    prices = prices.iloc[-window_size:,0]\n"
   ]
  },
  {
   "cell_type": "code",
   "execution_count": 37,
   "metadata": {},
   "outputs": [
    {
     "data": {
      "text/plain": [
       "<matplotlib.axes._subplots.AxesSubplot at 0x7fad775d1b50>"
      ]
     },
     "execution_count": 37,
     "metadata": {},
     "output_type": "execute_result"
    },
    {
     "data": {
      "image/png": "[encoded data removed]",
      "text/plain": [
       "<Figure size 432x288 with 1 Axes>"
      ]
     },
     "metadata": {
      "needs_background": "light"
     },
     "output_type": "display_data"
    }
   ],
   "source": [
    "prices.plot()"
   ]
  },
  {
   "cell_type": "code",
   "execution_count": 51,
   "metadata": {},
   "outputs": [
    {
     "data": {
      "text/plain": [
       "<matplotlib.axes._subplots.AxesSubplot at 0x7fad79ddbf90>"
      ]
     },
     "execution_count": 51,
     "metadata": {},
     "output_type": "execute_result"
    },
    {
     "data": {
      "image/png": "[encoded data removed]",
      "text/plain": [
       "<Figure size 432x288 with 1 Axes>"
      ]
     },
     "metadata": {
      "needs_background": "light"
     },
     "output_type": "display_data"
    }
   ],
   "source": [
    "oil_df.iloc[-window_size:,0].plot()"
   ]
  },
  {
   "cell_type": "code",
   "execution_count": 42,
   "metadata": {},
   "outputs": [
    {
     "data": {
      "text/plain": [
       "pandas.core.frame.DataFrame"
      ]
     },
     "execution_count": 42,
     "metadata": {},
     "output_type": "execute_result"
    }
   ],
   "source": [
    "type(oil_df.iloc[-window_size:,:])"
   ]
  },
  {
   "cell_type": "code",
   "execution_count": 49,
   "metadata": {},
   "outputs": [],
   "source": [
    "compare_df = pd.concat([prices.to_frame(),\n",
    "          oil_df.iloc[-window_size:,0]],\n",
    "          axis = 1,\n",
    "          join = 'outer')"
   ]
  },
  {
   "cell_type": "code",
   "execution_count": 52,
   "metadata": {},
   "outputs": [],
   "source": [
    "compare_df.columns = ['predicated', 'real']"
   ]
  },
  {
   "cell_type": "code",
   "execution_count": 53,
   "metadata": {},
   "outputs": [
    {
     "data": {
      "text/plain": [
       "<matplotlib.axes._subplots.AxesSubplot at 0x7fad7a194850>"
      ]
     },
     "execution_count": 53,
     "metadata": {},
     "output_type": "execute_result"
    },
    {
     "data": {
      "image/png": "[encoded data removed]",
      "text/plain": [
       "<Figure size 432x288 with 1 Axes>"
      ]
     },
     "metadata": {
      "needs_background": "light"
     },
     "output_type": "display_data"
    }
   ],
   "source": [
    "compare_df.plot()"
   ]
  },
  {
   "cell_type": "code",
   "execution_count": null,
   "metadata": {},
   "outputs": [],
   "source": []
  }
 ],
 "metadata": {
  "kernelspec": {
   "display_name": "Python [conda env:dev]",
   "language": "python",
   "name": "conda-env-dev-py"
  },
  "language_info": {
   "codemirror_mode": {
    "name": "ipython",
    "version": 3
   },
   "file_extension": ".py",
   "mimetype": "text/x-python",
   "name": "python",
   "nbconvert_exporter": "python",
   "pygments_lexer": "ipython3",
   "version": "3.7.7"
  }
 },
 "nbformat": 4,
 "nbformat_minor": 4
}
