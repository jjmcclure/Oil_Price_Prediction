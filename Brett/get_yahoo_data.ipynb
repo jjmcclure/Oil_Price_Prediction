{
 "cells": [
  {
   "cell_type": "markdown",
   "metadata": {},
   "source": [
    "#### Function To Get Ticker Data"
   ]
  },
  {
   "cell_type": "code",
   "execution_count": null,
   "metadata": {},
   "outputs": [],
   "source": [
    "# Pull in historical data from Yahoo Finance for a specified ticker\n",
    "import yfinance as yf\n",
    "import pandas as pd\n",
    "from pathlib import Path\n",
    "import datetime\n",
    "import os\n",
    "\n",
    "def get_ticker_data(ticker, period, interval):\n",
    "    '''This function pulls historical data for a specified ticker from Yahoo Finance using yfinance.\n",
    "    If you do not have yfinance installed, run pip install yfinance\n",
    "    If the current trading day has not closed it will be removed from the data.\n",
    "    \n",
    "    Inputs:\n",
    "        ticker = ticker symbol for the trade instrument. (str)\n",
    "        period = data period to download \n",
    "            available options: 1d, 5d, 1mo, 3mo, 6mo, 1y, 2y, 5y, 10y, ytd, max\n",
    "        interval = data interval.\n",
    "            available options 1d, 5d, 1wk, 1mo, 3mo     \n",
    "    '''\n",
    "    # set folder and file variables\n",
    "    folder_name = 'Data'\n",
    "    file_name = ticker\n",
    "    file = os.path.join(folder_name, file_name + '.csv')\n",
    "    p = Path(folder_name)\n",
    "    \n",
    "    # Get data amd drop the current trading day\n",
    "    data = yf.Ticker(ticker)\n",
    "    data_df = data.history(period=period,\n",
    "                                interval=interval,\n",
    "                                actions=False,\n",
    "                                back_adjust=True).reset_index()\n",
    "    data_df = data_df.iloc[:-1]\n",
    "    \n",
    "    # Check if folder and file exist\n",
    "    if os.path.exists(file):\n",
    "        \n",
    "    # Read in historical data CSV, convert dtype of Date column, append DFs, drop dups, and overwrite csv  \n",
    "        historical_data = pd.read_csv(file)\n",
    "        historical_data['Date'] = pd.to_datetime(historical_data.Date)\n",
    "        historical_data = (historical_data.append(data_df)\n",
    "                  .reset_index()\n",
    "                  .drop(columns='index')\n",
    "                 )\n",
    "        data_df = historical_data.drop_duplicates(keep='last')\n",
    "        data_df.to_csv(Path(file), index=False) \n",
    "        strSuccess = f'Appended data to {file}.'\n",
    "        \n",
    "    # Check if directory exist and save df to Data folder as a csv using the ticker as the name\n",
    "    elif os.path.isdir(folder_name):\n",
    "        data_df.to_csv(Path(p, ticker + '.csv'), index=False)\n",
    "        strSuccess = f'Wrote your file to the {p} folder as {file_name}.csv.'\n",
    "        \n",
    "    # make the Data folder and save df to csv using the ticker as the name\n",
    "    else:\n",
    "        os.makedirs(folder_name)\n",
    "        data_df.to_csv(Path(p, ticker + '.csv'), index=False)\n",
    "        strSuccess = f'A folder named, {folder_name}, was created and you file was save in it as {file_name}.csv.'\n",
    "    return(strSuccess, data_df.tail())"
   ]
  },
  {
   "cell_type": "code",
   "execution_count": null,
   "metadata": {},
   "outputs": [],
   "source": []
  },
  {
   "cell_type": "markdown",
   "metadata": {},
   "source": [
    "#### Clean Ticker Data"
   ]
  },
  {
   "cell_type": "code",
   "execution_count": null,
   "metadata": {},
   "outputs": [],
   "source": [
    "# file paths\n",
    "cl_path = Path('Data/CL=F.csv')\n",
    "uup_path = Path('Data/UUP.csv')\n",
    "\n",
    "# Read files to a dataframe\n",
    "cl_df = pd.read_csv(cl_path, index_col='Date', parse_dates=True, infer_datetime_format=True).sort_index()\n",
    "uup_df = pd.read_csv(uup_path, index_col='Date', parse_dates=True, infer_datetime_format=True).sort_index()\n",
    "\n",
    "# Drop columns to have just closing price\n",
    "cl_close = cl_df.drop(columns=['Open', 'High', 'Low', 'Volume'])\n",
    "uup_close = uup_df.drop(columns=['Open', 'High', 'Low', 'Volume'])\n",
    "\n",
    "# Change column name to ticker name\n",
    "cl_close.columns = ['CL']\n",
    "uup_close.columns = ['UUP']\n",
    "\n",
    "# # Combine the two dataframes\n",
    "combined_cl_uup = pd.concat([cl_close, uup_close], axis='columns', join='inner')"
   ]
  }
 ],
 "metadata": {
  "kernelspec": {
   "display_name": "Python 3",
   "language": "python",
   "name": "python3"
  },
  "language_info": {
   "codemirror_mode": {
    "name": "ipython",
    "version": 3
   },
   "file_extension": ".py",
   "mimetype": "text/x-python",
   "name": "python",
   "nbconvert_exporter": "python",
   "pygments_lexer": "ipython3",
   "version": "3.7.7"
  }
 },
 "nbformat": 4,
 "nbformat_minor": 4
}
